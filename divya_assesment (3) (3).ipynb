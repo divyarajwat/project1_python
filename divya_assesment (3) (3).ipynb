{
 "cells": [
  {
   "cell_type": "markdown",
   "id": "0c7ab69d",
   "metadata": {},
   "source": [
    "# Assesment"
   ]
  },
  {
   "cell_type": "markdown",
   "id": "35450ec1",
   "metadata": {},
   "source": [
    "## Ques1)   Mention some of the advantages of python?\n"
   ]
  },
  {
   "cell_type": "markdown",
   "id": "70144e1d",
   "metadata": {},
   "source": [
    "#### ans )  Advantages of python are--\n",
    "            1. Easy to learn and read.\n",
    "            2. Extensive standard library.\n",
    "            3. Versatile for various applications.\n",
    "            4. Strong community support.\n",
    "            5. Highly readable code.\n",
    "            6. Open source and free to use."
   ]
  },
  {
   "cell_type": "markdown",
   "id": "b5776539",
   "metadata": {},
   "source": [
    "### Ques2) What are local variables and global variables in Python?"
   ]
  },
  {
   "cell_type": "markdown",
   "id": "22171b36",
   "metadata": {},
   "source": [
    "#### ans) Local varibles- \n",
    "                         Local variables are defined within functions or blocks and are accessible only within their scope. They are temporary and get destroyed after the function or block execution."
   ]
  },
  {
   "cell_type": "markdown",
   "id": "f4df4f71",
   "metadata": {},
   "source": [
    "##### example-\n",
    "               def example_function():\n",
    "    x = 10  \n",
    "    print(x)\n",
    "\n",
    "example_function()  # Output: 10\n",
    "print(x)   This will raise a NameError since 'x' is a local variable within the function.\n"
   ]
  },
  {
   "cell_type": "markdown",
   "id": "38cd4153",
   "metadata": {},
   "source": [
    "####     global variables-\n",
    "                          Global variables are defined at the top level of the script and can be accessed and modified from anywhere in the code. They retain their values throughout the program's execution."
   ]
  },
  {
   "cell_type": "markdown",
   "id": "504b9626",
   "metadata": {},
   "source": [
    "#### example-\n",
    "             e.g.\n",
    "\n",
    "\n",
    "```\n",
    "a=5\n",
    "\n",
    "def func:\n",
    "  b=7\n",
    "  return\n",
    "```\n",
    "\n",
    "Here a is a global variable and can be accessed anywhere, including in the function func, whereas b is a local variable and is local to the function func, i.e. it can be accessed only within func.\n"
   ]
  },
  {
   "cell_type": "markdown",
   "id": "c37e13e2",
   "metadata": {},
   "source": [
    "### Ques3) What is Lambda Functions in Python?"
   ]
  },
  {
   "cell_type": "markdown",
   "id": "37575278",
   "metadata": {},
   "source": [
    "##### ans) lambda function-\n",
    "                           lambda functions in Python are small, anonymous functions that can take any number of arguments but can only have one expression. They are defined using the lambda keyword and are often used for short, simple operations or as arguments in higher-order functions. it will take only one line of argument."
   ]
  },
  {
   "cell_type": "markdown",
   "id": "8c98000a",
   "metadata": {},
   "source": [
    "##### example- \n",
    "c=lambda a,b : a+b\n",
    "c(6,3)\n",
    "```\n",
    "The output will be 9 as this lambda function adds the given two arguments.\n",
    "\n"
   ]
  },
  {
   "cell_type": "markdown",
   "id": "73c9ef11",
   "metadata": {},
   "source": [
    "### Ques4) What is a Negative Index in Python?"
   ]
  },
  {
   "cell_type": "markdown",
   "id": "b0d5cc5c",
   "metadata": {},
   "source": [
    "##### ans) negative index-\n",
    "          Negative index is index from the last element of the object we are indexing instead of the first. So, for                        e.g. if we have a list a = [10,22,13,44,65], then a[-1] will give us 65 and a[-2] will give us 44."
   ]
  },
  {
   "cell_type": "markdown",
   "id": "4fd2aab3",
   "metadata": {},
   "source": [
    "### Ques5)  What is the difference between tuples and lists?"
   ]
  },
  {
   "cell_type": "markdown",
   "id": "a00b9524",
   "metadata": {},
   "source": [
    "##### ans)  Tuple-\n",
    "             Tuples are similar to lists but are unchangable, i.e. we cannot add/remove elements and cannot change the values of elements inside the tuples.also, Tuples are denoted by ()."
   ]
  },
  {
   "cell_type": "markdown",
   "id": "e62040da",
   "metadata": {},
   "source": [
    "#####     Lists-\n",
    "                On the other hand, lists can append new elements, remove existing ones and change values of existing elements too.Lists are denoted by []\n"
   ]
  },
  {
   "cell_type": "markdown",
   "id": "ea762d0f",
   "metadata": {},
   "source": [
    "### Ques6) What is a dynamically typed language?"
   ]
  },
  {
   "cell_type": "markdown",
   "id": "086c8ecb",
   "metadata": {},
   "source": [
    "##### ans) dynamically typed language-\n",
    "             a dynamically typed language is one where the type of a variable is determined at runtime based on the value it holds. Developers don't need to explicitly declare the data type of variables, providing flexibility but potentially leading to runtime type errors. Examples include Python, JavaScript, Ruby, and PHP."
   ]
  },
  {
   "cell_type": "markdown",
   "id": "082d79be",
   "metadata": {},
   "source": [
    "### Ques7) What are the data types available in python?Brief about it?"
   ]
  },
  {
   "cell_type": "markdown",
   "id": "409f2b54",
   "metadata": {},
   "source": [
    "##### ans) data types-\n",
    "int: integers, i.e. ...,-4,-3,-2,-1,0,1,2,3,4,...\n",
    "\n",
    "str: strings (sequence of characters), enclosed by single or double quotes\n",
    "\n",
    "bool: True or False logical variables\n",
    "\n",
    "list: collection of elements of various data types, and can be changed, denoted by []\n",
    "\n",
    "tuple: collection of elements of various data types, that cannot be changed, denoted by ()\n",
    "\n",
    "dict: short for dictionary, collection of key-value pairs, denoted by {} with key-value pairs represented as key:value\n",
    "\n",
    "set: unordered, unchangeable collection of unique elements, denoted by {}, new elements can be added/removed"
   ]
  },
  {
   "cell_type": "markdown",
   "id": "763d931f",
   "metadata": {},
   "source": [
    "### Ques8) Why we have to use functions in Python? Explain with an example?"
   ]
  },
  {
   "cell_type": "markdown",
   "id": "cd9696bf",
   "metadata": {},
   "source": [
    "##### ans) Fucntions-\n",
    "          We need to use functions for tasks that we have to perform again and again, so that we do not need to retype the same code every time but can call the corresponding function instead.\n",
    "\n",
    "e.g. the following function combines the two lists given to it and returns the resulting list."
   ]
  },
  {
   "cell_type": "markdown",
   "id": "91dd3d86",
   "metadata": {},
   "source": [
    "#### \n",
    "     def combine_lists (a,b):\n",
    "  c=list()\n",
    "  for i in a:\n",
    "    c.append(i)\n",
    "  for i in b:\n",
    "    c.append(i)\n",
    "  return c\n",
    "\n",
    "a=[1,2,3]\n",
    "b=['a','b','c']\n",
    "c=combine_lists(a,b)\n",
    "c\n",
    "\n",
    "[1, 2, 3, 'a', 'b', 'c']"
   ]
  },
  {
   "cell_type": "markdown",
   "id": "a2d62c73",
   "metadata": {},
   "source": [
    "### Ques9) What is the difference between function and generators? Give an example?"
   ]
  },
  {
   "cell_type": "markdown",
   "id": "b71a9f68",
   "metadata": {},
   "source": [
    "#### ans)\n",
    "Generators are like functions but instead of return they use yield, which appends elements to the generator object which is then returned. We can use for loop to iterate through the returned generator object.\n",
    "\n",
    "They are advantageous over functions when the input is very large, as functions will take a lot of time and memory but generators will display the output in the console only, consuming much lesser time and memory. Functions will compute the entire thing before returning, but generators will go one element at a time.\n",
    "\n",
    "e.g.\n",
    "\n",
    "\n",
    "```\n",
    "def gen(n):\n",
    "  for i in range(n):\n",
    "    yield i\n",
    "```\n",
    "\n",
    "This generator will generate a sequence of the first n whole numbers\n",
    "\n"
   ]
  },
  {
   "cell_type": "code",
   "execution_count": 4,
   "id": "0dd9c197",
   "metadata": {},
   "outputs": [
    {
     "name": "stdout",
     "output_type": "stream",
     "text": [
      "0\n",
      "1\n",
      "2\n",
      "3\n",
      "4\n",
      "5\n",
      "6\n"
     ]
    }
   ],
   "source": [
    "def gen(n):\n",
    "  for i in range(n):\n",
    "    yield i\n",
    "\n",
    "a = gen(7)\n",
    "for i in a:\n",
    "  print (i)"
   ]
  },
  {
   "cell_type": "markdown",
   "id": "fb19f6ca",
   "metadata": {},
   "source": [
    "### Ques10) Explain brief about conditional statements with an example?\n"
   ]
  },
  {
   "cell_type": "markdown",
   "id": "fe274943",
   "metadata": {},
   "source": [
    "##### conditional statements-\n",
    "  Conditional statements are used in programming to make decisions based on certain conditions. They allow you to execute specific blocks of code if a condition is true and an alternative block if it's false. The most common forms are \"if\" statements (for single conditions) and \"if-else\" statements (for two possibilities). They provide the ability to create dynamic and flexible programs."
   ]
  },
  {
   "cell_type": "code",
   "execution_count": 5,
   "id": "8b5e1027",
   "metadata": {},
   "outputs": [
    {
     "name": "stdout",
     "output_type": "stream",
     "text": [
      "This prints if the statement is false\n"
     ]
    }
   ],
   "source": [
    "a = 7\n",
    "if (a<6):\n",
    "  print('This prints if the statement is true')\n",
    "else:\n",
    "  print('This prints if the statement is false')"
   ]
  },
  {
   "cell_type": "markdown",
   "id": "54fd0c48",
   "metadata": {},
   "source": [
    "### Ques11) Why we have to use exceptional handling in python? What are the keyword used to handle the error , give one example?\n"
   ]
  },
  {
   "cell_type": "markdown",
   "id": "01f0fe75",
   "metadata": {},
   "source": [
    "##### ans) \n",
    "We use exception handling to handle cases where an abnormal event occurs, i.e. an exception occurs, that can crash the program. This could be an input that should not be entered, like making the divisor in a division 0, or a size for a list so large that it isn't possible to make that list due to memory limitations. To avoid crashing the program, we use exception handling to handle these exceptions and ask the user to retry, or do not compute that line, etc.\n",
    "\n",
    "The keywords used are try to check for exceptions and except to handle the exception, and raise can also be used to raise a specific error.\n",
    "\n",
    "e.g. the following code is for division in which the code handles the case where the division doesn't happen successfully, like in the case the user enters 0 as the divisor, and asks them to retry."
   ]
  },
  {
   "cell_type": "code",
   "execution_count": 7,
   "id": "c6c49a27",
   "metadata": {},
   "outputs": [
    {
     "name": "stdout",
     "output_type": "stream",
     "text": [
      "Dividend: 4\n",
      "Divisor: 2\n",
      "4 /4 2 = 2.0\n"
     ]
    }
   ],
   "source": [
    "while True:\n",
    "  try:\n",
    "    a=int(input('Dividend: '))\n",
    "    b=int(input('Divisor: '))\n",
    "    print(a,'/4',b,'=',a/b)\n",
    "    break\n",
    "  except:\n",
    "    print('Error' )"
   ]
  },
  {
   "cell_type": "markdown",
   "id": "928cbbbf",
   "metadata": {},
   "source": [
    "### Ques12)  Define class and objects with an example?"
   ]
  },
  {
   "cell_type": "markdown",
   "id": "651bda77",
   "metadata": {},
   "source": [
    "#### ans)\n",
    "  A class is a blueprint that defines the structure and behavior of objects in object-oriented programming. Objects are instances of a class, each having its own unique data and methods to perform actions. For example, a class called Car could have attributes like make, model, and year, and methods like start(), stop(), and get_status() to control and interact with individual car objects."
   ]
  },
  {
   "cell_type": "code",
   "execution_count": 8,
   "id": "7fa61210",
   "metadata": {},
   "outputs": [
    {
     "name": "stdout",
     "output_type": "stream",
     "text": [
      "Divya Rajawat\n"
     ]
    }
   ],
   "source": [
    "class student:\n",
    "  def __init__(self,name,surename):\n",
    "    self.name=name\n",
    "    self.surename=surename\n",
    "\n",
    "s = student('Divya','Rajawat')\n",
    "print(s.name,s.surename)"
   ]
  },
  {
   "cell_type": "code",
   "execution_count": 11,
   "id": "6fbdaca6",
   "metadata": {},
   "outputs": [
    {
     "name": "stdout",
     "output_type": "stream",
     "text": [
      "Q13. Write a program to swap the two numbers in python?\n",
      "Before: a =  10 , b =  20\n",
      "After: a =  20 b =  10\n"
     ]
    }
   ],
   "source": [
    "print('Q13. Write a program to swap the two numbers in python?')\n",
    "\n",
    "a=10\n",
    "b=20\n",
    "print('Before: a = ',a,\", b = \",b)\n",
    "(a,b)=(b,a)\n",
    "print('After: a = ',a,'b = ',b)"
   ]
  },
  {
   "cell_type": "code",
   "execution_count": 10,
   "id": "0faae1b9",
   "metadata": {},
   "outputs": [
    {
     "name": "stdout",
     "output_type": "stream",
     "text": [
      "Q14. Write a palindrome program in python\n",
      "False\n",
      "True\n"
     ]
    }
   ],
   "source": [
    "print('Q14. Write a palindrome program in python')\n",
    "\n",
    "def palindrome (a):\n",
    "  l=len(a)\n",
    "  for i in range(l):\n",
    "    if a[i]!=a[l-i-1]:\n",
    "      return False\n",
    "  return True\n",
    "\n",
    "print(palindrome('abcabca'))\n",
    "print(palindrome('abcba'))"
   ]
  },
  {
   "cell_type": "markdown",
   "id": "8caf1c19",
   "metadata": {},
   "source": [
    "### Ques15)  What is the use of numpy array over list?"
   ]
  },
  {
   "cell_type": "markdown",
   "id": "e3866187",
   "metadata": {},
   "source": [
    "#### ans) advantages of numpy array over list are-\n",
    "        1. numpy takes less memory raher than list.\n",
    "        2. it is very convienient to use.\n",
    "        3. it takes less time."
   ]
  },
  {
   "cell_type": "markdown",
   "id": "9c17f25a",
   "metadata": {},
   "source": [
    "### Ques16) Explain in brief about reshape in numpy with an example?\n"
   ]
  },
  {
   "cell_type": "markdown",
   "id": "9fac16fd",
   "metadata": {},
   "source": [
    "##### ans)\n",
    "Reshape changes the dimensions of the numpy array into the given dimensions. For example, the following code changes the given array from a 4x4 array to a 8x2 array."
   ]
  },
  {
   "cell_type": "code",
   "execution_count": 13,
   "id": "23a544d9",
   "metadata": {},
   "outputs": [
    {
     "name": "stdout",
     "output_type": "stream",
     "text": [
      "[[ 1  2  3  4]\n",
      " [ 5  6  7  8]\n",
      " [ 9 10 11 12]\n",
      " [13 14 15 16]] \n",
      "\n",
      "[[ 1  2]\n",
      " [ 3  4]\n",
      " [ 5  6]\n",
      " [ 7  8]\n",
      " [ 9 10]\n",
      " [11 12]\n",
      " [13 14]\n",
      " [15 16]]\n"
     ]
    }
   ],
   "source": [
    "import numpy as np\n",
    "\n",
    "a = np.array([[1,2,3,4],[5,6,7,8],[9,10,11,12],[13,14,15,16]])\n",
    "\n",
    "print(a,'\\n')\n",
    "\n",
    "a=np.reshape(a,(8,2))\n",
    "print(a)"
   ]
  },
  {
   "cell_type": "markdown",
   "id": "8a38fc70",
   "metadata": {},
   "source": [
    "### Ques17) What is the use of pandas explain in brief?\n"
   ]
  },
  {
   "cell_type": "markdown",
   "id": "6cfdbd15",
   "metadata": {},
   "source": [
    "##### ans) Pandas-\n",
    "                andas is a powerful python library that can be imported and then used to analyse, manipulate and clean data.\n",
    "\n",
    "We can use pandas to import data in the form of data frames and then clean it to prepare it for further processing, e.g. machine learning. We can analyse the data by filtering it, printing summaries and stats of the data, and make modifications to it in order to clean it."
   ]
  },
  {
   "cell_type": "markdown",
   "id": "9727f42a",
   "metadata": {},
   "source": [
    "### Ques18) What do you mean by supervised machine learning and unsupervised machine learning? Explain in brief?"
   ]
  },
  {
   "cell_type": "markdown",
   "id": "15ca58b9",
   "metadata": {},
   "source": [
    "##### ans) Supervised Machine Learning- \n",
    "                                      Supervised machine learning is the type of machine learning that uses labeled data, i.e. both independent and dependent variables, to create a model that can then predict the label of newly input data.\n",
    "\n",
    "Examples include regression (linear, multilinear, logistic etc.), decision tree, random forest, KNN etc.\n"
   ]
  },
  {
   "cell_type": "markdown",
   "id": "0eb81af1",
   "metadata": {},
   "source": [
    "#####    Unsupervised Machine Learning-\n",
    "                                    Unsupervised learning on the other hand uses data that is unlabeled, i.e. contains only independent variables and not dependent variables to create a model that figures out clusters or similar data points on its own.\n",
    "\n",
    "Examples include k-means clustering, etc."
   ]
  },
  {
   "cell_type": "markdown",
   "id": "aca4fb01",
   "metadata": {},
   "source": [
    "### Ques19) Differenciate between Decision tree and Random forest?\n"
   ]
  },
  {
   "cell_type": "markdown",
   "id": "4c09ae2b",
   "metadata": {},
   "source": [
    "##### ans)\n",
    "A decision tree is the basic unit of a random forest.\n",
    "\n",
    "A decision tree is a structure in the form of one root nodes, several decision nodes and leaf nodes that contain the final output. We start from the root node, follow the branch that satisifies our condition and continue till we reach a leaf node, that contains the output.\n",
    "\n",
    "A random forest on the other hand is a collection of several decision trees."
   ]
  },
  {
   "cell_type": "markdown",
   "id": "58c625f6",
   "metadata": {},
   "source": [
    "### Ques20) What do you mean by forward propagation and backward propagation in ANN?"
   ]
  },
  {
   "cell_type": "markdown",
   "id": "b12e3b26",
   "metadata": {},
   "source": [
    "##### ans)\n",
    "Forward propagation in an ANN is when we move forward, i.e. left to right, i.e. towards the direction of the output layer.\n",
    "\n",
    "Backward propagation is when we move in the opposite direction, towards the input layer, i.e. the output of a hidden layer or the output layer itself is used as the input in a previous layer. This is done to update weights and reduce loss."
   ]
  },
  {
   "cell_type": "markdown",
   "id": "accd6e6c",
   "metadata": {},
   "source": [
    "### Ques21) Explain the working flow of ANN and CNN?"
   ]
  },
  {
   "cell_type": "markdown",
   "id": "c213c7df",
   "metadata": {},
   "source": [
    "##### ans)\n",
    "ANN consists of input layer, hidden layers, activation functions, bias, weights and output layer.\n",
    "\n",
    "We start from the input layer, that adds all the inputs multiplied by their weights, adds the bias and uses the activation function to produce an output which goes on to the next layer, and so on, until we reach the final output layer. During this process we also update weights to reduce loss.\n",
    "\n",
    "CNN consists of an input image, that goes through optional padding. Then several rounds (as required) of convolution, and pooling happen along with filters, to produce a fully connected layer. Then the output produced is flattened. This flattened image is used as input to the fully connected layer to produce a final output which could be a classification of the original image."
   ]
  },
  {
   "cell_type": "markdown",
   "id": "ee90c376",
   "metadata": {},
   "source": [
    "### Ques22)  What is the use of activation function and optimizers?"
   ]
  },
  {
   "cell_type": "markdown",
   "id": "1bdd74b3",
   "metadata": {},
   "source": [
    "##### ans)\n",
    "Activation functions are used to transform inputs to outputs. They introduce non linearity to the network.\n",
    "\n",
    "Optimizers are used to minimize loss."
   ]
  },
  {
   "cell_type": "markdown",
   "id": "6af239a3",
   "metadata": {},
   "source": [
    "### Ques23)  What is the difference between R square and adjusted Rsquare?"
   ]
  },
  {
   "cell_type": "markdown",
   "id": "83ffb0ca",
   "metadata": {},
   "source": [
    "##### ans)\n",
    "R square is simply the sum of squares of difference between actual and predicted values.\n",
    "\n",
    "Adjusted R square on the other hand is the R square value adjusted for the number of independent variables used to calculate the predictions. It is equal to 1 - [(1-Rsquare)(n-1)]/(n-k-1)], where n=no. of data points, and k=no. of independent variables. It helps us know if adding independent variables is benefitting our model or not."
   ]
  },
  {
   "cell_type": "markdown",
   "id": "71e43b97",
   "metadata": {},
   "source": [
    "### Ques24) What do you mean by LSTM in RNN?\n"
   ]
  },
  {
   "cell_type": "markdown",
   "id": "134ac07d",
   "metadata": {},
   "source": [
    "##### ans) \n",
    "LSTM is short for long short term memory in RNN (recurrent neural networks).\n",
    "It is an improved version of RNN that uses feedback to remember long term dependencies unlike usual RNN that remembers only short term dependencies."
   ]
  },
  {
   "cell_type": "markdown",
   "id": "bf22bd7c",
   "metadata": {},
   "source": [
    "### Ques25) What is the use of image processing?"
   ]
  },
  {
   "cell_type": "markdown",
   "id": "fb22fb19",
   "metadata": {},
   "source": [
    "##### ans)\n",
    "Image processing is used to analyse images, build models for image classifications, manipulate images and modify their pixels, etc. It can be used in image classification, or editing of images to for example remove the background, etc."
   ]
  },
  {
   "cell_type": "markdown",
   "id": "1f017b54",
   "metadata": {},
   "source": [
    "### Ques26) What are the steps involved in NLP?"
   ]
  },
  {
   "cell_type": "markdown",
   "id": "3feaa2f0",
   "metadata": {},
   "source": [
    "### ans)  The steps involved in natural language processing are:\n",
    "\n",
    "1. Lexical analysis\n",
    "2. Syntactical analysis\n",
    "3. Semantic analysis\n",
    "4. Discourse integration\n",
    "5. Pragmatic analysis"
   ]
  },
  {
   "cell_type": "markdown",
   "id": "f4eeda98",
   "metadata": {},
   "source": [
    "### Ques27) What do you mean by bias and variance?\n"
   ]
  },
  {
   "cell_type": "markdown",
   "id": "1ef56c96",
   "metadata": {},
   "source": [
    "##### ans)\n",
    "Bias is the model error that happens due to under fitting, or not viewing the data enough times to draw correct patterns from it.\n",
    "\n",
    "Variance on the other hand happens with over fitting, when the data is viewed too many times and results in the model being very accurate with the training data but failing with new data."
   ]
  },
  {
   "cell_type": "markdown",
   "id": "6ef07c16",
   "metadata": {},
   "source": [
    "### Ques28) What are the steps involved in machine learning to create model?"
   ]
  },
  {
   "cell_type": "markdown",
   "id": "1690b048",
   "metadata": {},
   "source": [
    "##### ans) To create a model, we:\n",
    "\n",
    "1. Import the dataset using which we have to create the model\n",
    "2. Perform EDA (exploratory data analysis), in which we understand the dataset\n",
    "3. Clean the dataset to handle NULL values, check the data types of columns, etc.\n",
    "4. Pre-processing in which we perform label encoding, binary encoding, scaling etc. and split our dataset into training and testing data\n",
    "5. Model creation using linear regression, logistic regression, KNN, etc. as required\n",
    "6. Evaluation and validation of model using metric analysis which includes metrics like accuracy, confusion matrix, etc."
   ]
  },
  {
   "cell_type": "code",
   "execution_count": null,
   "id": "460d1e8e",
   "metadata": {},
   "outputs": [],
   "source": []
  }
 ],
 "metadata": {
  "kernelspec": {
   "display_name": "Python 3 (ipykernel)",
   "language": "python",
   "name": "python3"
  },
  "language_info": {
   "codemirror_mode": {
    "name": "ipython",
    "version": 3
   },
   "file_extension": ".py",
   "mimetype": "text/x-python",
   "name": "python",
   "nbconvert_exporter": "python",
   "pygments_lexer": "ipython3",
   "version": "3.11.3"
  }
 },
 "nbformat": 4,
 "nbformat_minor": 5
}
